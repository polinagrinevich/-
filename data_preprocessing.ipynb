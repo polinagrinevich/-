{
 "cells": [
  {
   "cell_type": "markdown",
   "id": "1add9371-a639-4fb8-a09d-f76866dfd7df",
   "metadata": {},
   "source": [
    "# Первичная обработка данных\n",
    "\n",
    "Поскольку данные из-за многочисленных ограничений VK API собирались в несколько этапов, после сбора необходимо было провести некоторую предобработку: объединить посты и комментарии за разные месяцы, удалить дубликаты, создать единый массив данных, где по строчкам будет комментарий - пост, под которым комментарий был написан."
   ]
  },
  {
   "cell_type": "code",
   "execution_count": null,
   "id": "03cb12bf-17c5-4fab-9b54-3fc5b7a8a54a",
   "metadata": {},
   "outputs": [],
   "source": [
    "import polars as pl\n",
    "import pandas as pd\n",
    "import orjsonl\n",
    "import datetime\n",
    "import matplotlib.pyplot as plt"
   ]
  },
  {
   "cell_type": "markdown",
   "id": "e0558851-11d0-44e5-860b-d8a867a681fd",
   "metadata": {},
   "source": [
    "# Собираем посты вместе"
   ]
  },
  {
   "cell_type": "code",
   "execution_count": null,
   "id": "a0c88e1e-e8b2-4b10-aa40-c32bf22792df",
   "metadata": {},
   "outputs": [],
   "source": [
    "with open('posts_pol_10_11.json', 'r', encoding='utf-8') as f:\n",
    "    posts1 = pd.read_json(f, lines=True)\n",
    "    posts1 = posts1.drop_duplicates(subset=['date', 'from_id', 'id', 'owner_id', 'text'], keep='first')\n",
    "\n",
    "with open('posts_pol_12_1.json', 'r', encoding='utf-8') as f:\n",
    "    posts2 = pd.read_json(f, lines=True)\n",
    "    posts2 = posts2.drop_duplicates(subset=['date', 'from_id', 'id', 'owner_id', 'text'], keep='first')\n",
    "\n",
    "with open('posts_pol_2_3_filtered.json', 'r', encoding='utf-8') as f:\n",
    "    posts3 = pd.read_json(f, lines=True)\n",
    "    posts3 = posts3.drop_duplicates(subset=['date', 'from_id', 'id', 'owner_id', 'text'], keep='first')\n",
    "\n",
    "posts = pd.concat([posts1, posts2, posts3])\n",
    "posts = posts.drop_duplicates(subset=['date', 'from_id', 'id', 'owner_id', 'text'], keep='first')"
   ]
  },
  {
   "cell_type": "code",
   "execution_count": null,
   "id": "3a5e1a31-4228-468b-862e-59e23347144e",
   "metadata": {},
   "outputs": [],
   "source": [
    "# Для ускорения работы и меньшего объема будет использовать библиотеку polars\n",
    "\n",
    "posts_pl = pl.DataFrame(posts)\n",
    "posts_pl.write_parquet(\"posts_pol_10_3.parquet\")\n",
    "\n",
    "# Файл в формате parquet весит в 10 раз меньше!"
   ]
  },
  {
   "cell_type": "markdown",
   "id": "1aee234f-578f-40a7-ba01-6d48a24d6a2b",
   "metadata": {},
   "source": [
    "# Собираем комментарии вместе"
   ]
  },
  {
   "cell_type": "code",
   "execution_count": null,
   "id": "5626862a-8d7b-41d1-9488-6f40186e3b7f",
   "metadata": {},
   "outputs": [],
   "source": [
    "with open('comm_pol_10_11.json', 'r', encoding='utf-8') as f:\n",
    "    comm1 = pd.read_json(f, lines=True)\n",
    "    comm1 = comm1.drop_duplicates(subset=['date', 'from_id', 'id', 'owner_id', 'text'], keep='first')\n",
    "\n",
    "with open('comm_pol_12_1.json', 'r', encoding='utf-8') as f:\n",
    "    comm2 = pd.read_json(f, lines=True)\n",
    "    comm2 = comm2.drop_duplicates(subset=['date', 'from_id', 'id', 'owner_id', 'text'], keep='first')\n",
    "\n",
    "with open('comm_pol_2_3.json', 'r', encoding='utf-8') as f:\n",
    "    comm3 = pd.read_json(f, lines=True)\n",
    "    comm3 = comm3.drop_duplicates(subset=['date', 'from_id', 'id', 'owner_id', 'text'], keep='first')\n",
    "\n",
    "\n",
    "comm = pd.concat([comm1, comm2, comm3])\n",
    "comm = comm.drop_duplicates(subset=['date', 'from_id', 'id', 'owner_id', 'text'], keep='first')"
   ]
  },
  {
   "cell_type": "code",
   "execution_count": null,
   "id": "868b7b46-ff8e-4106-b720-88619f9e8a3b",
   "metadata": {},
   "outputs": [],
   "source": [
    "comm_pl = pl.DataFrame(c)\n",
    "comm_pl.write_parquet(\"comm_pol_10_3.parquet\")"
   ]
  },
  {
   "cell_type": "markdown",
   "id": "9778b545-c376-4706-8fbc-794b51d7b2ab",
   "metadata": {},
   "source": [
    "# Объединяем посты и комментарии в один массив данных"
   ]
  },
  {
   "cell_type": "code",
   "execution_count": null,
   "id": "08edcead-e21a-4b32-9ebb-ebe4edf8be5c",
   "metadata": {},
   "outputs": [],
   "source": [
    "comm = pl.read_parquet(\"comm_pol_10_3.parquet\")\n",
    "posts = pl.read_parquet(\"posts_pol_10_3.parquet\")"
   ]
  },
  {
   "cell_type": "code",
   "execution_count": null,
   "id": "b1395c93-75f3-4136-b3af-f24c628fee81",
   "metadata": {},
   "outputs": [],
   "source": [
    "comm_with_posts = comm_pl.join(posts_pl, how='inner', left_on=['post_id', 'owner_id'], right_on=['id', 'owner_id'])\n",
    "comm_with_posts = comm_with_posts.rename({'text_right': 'post_text'})\n",
    "comm_with_posts = comm_with_posts.drop('date_right')\n",
    "\n",
    "comm_with_posts.write_parquet(\"comm_with_posts_final_10_3.parquet\")"
   ]
  }
 ],
 "metadata": {
  "kernelspec": {
   "display_name": "Python 3 (ipykernel)",
   "language": "python",
   "name": "python3"
  },
  "language_info": {
   "codemirror_mode": {
    "name": "ipython",
    "version": 3
   },
   "file_extension": ".py",
   "mimetype": "text/x-python",
   "name": "python",
   "nbconvert_exporter": "python",
   "pygments_lexer": "ipython3",
   "version": "3.11.0"
  }
 },
 "nbformat": 4,
 "nbformat_minor": 5
}
